{
 "cells": [
  {
   "cell_type": "markdown",
   "id": "0fc8d5a7",
   "metadata": {},
   "source": [
    "# Data Analysis of Election In India 2024"
   ]
  },
  {
   "cell_type": "markdown",
   "id": "1a9ad4f6",
   "metadata": {},
   "source": [
    "This comprehensive analysis delves into the Election Commission of India's official website data for the 2024 Indian elections. It covers pivotal insights such as total seats secured by each political party, their respective winning percentages, the highest margin of victory, and the most closely contested races. State-wise performance metrics highlight regional electoral trends.\n",
    "\n",
    "The report also scrutinizes individual candidate achievements, including the most successful candidates based on votes garnered, gender distribution among elected representatives, and the count of first-time winners. Furthermore, it identifies the political party fielding the youngest candidates.\n",
    "\n",
    "Employing a blend of data scraping techniques, statistical analysis, and visualizations, this study provides an in-depth perspective on voting patterns and evolving political dynamics in India's electoral landscape. The analysis aims to offer actionable insights for stakeholders and enthusiasts keen on understanding the outcome and implications of the 2024 elections."
   ]
  },
  {
   "cell_type": "markdown",
   "id": "706ce2b6",
   "metadata": {},
   "source": [
    "## Importing Libraries"
   ]
  },
  {
   "cell_type": "code",
   "execution_count": 20,
   "id": "11a281c6",
   "metadata": {},
   "outputs": [],
   "source": [
    "import requests\n",
    "from bs4 import BeautifulSoup\n",
    "import pandas as pd"
   ]
  },
  {
   "cell_type": "markdown",
   "id": "c381cf33",
   "metadata": {},
   "source": [
    "## Retrieving the Data"
   ]
  },
  {
   "cell_type": "code",
   "execution_count": 21,
   "id": "b741f6b0",
   "metadata": {},
   "outputs": [],
   "source": [
    "url = \"https://results.eci.gov.in/\"\n",
    "response = requests.get(url)\n",
    "soup = BeautifulSoup(response.content, 'html.parser')"
   ]
  },
  {
   "cell_type": "markdown",
   "id": "76a58ace",
   "metadata": {},
   "source": [
    "## Locating the data"
   ]
  },
  {
   "cell_type": "code",
   "execution_count": 3,
   "id": "14208f82",
   "metadata": {},
   "outputs": [],
   "source": [
    "results = soup.find_all('div', class_='result')"
   ]
  },
  {
   "cell_type": "markdown",
   "id": "88ae2c0f",
   "metadata": {},
   "source": [
    "## Extracting the data"
   ]
  },
  {
   "cell_type": "code",
   "execution_count": 4,
   "id": "ab3bd91a",
   "metadata": {},
   "outputs": [],
   "source": [
    "data = []\n",
    "for result in results:\n",
    "    Applicant = result.find('span', class_='candidate').text.strip()\n",
    "    party = result.find('span', class_='party').text.strip()\n",
    "    Performance = int(result.find('span', class_='votes').text.strip().replace(',', ''))\n",
    "    state = result.find('span', class_='state').text.strip()\n",
    "    gender = result.find('span', class_='gender').text.strip()\n",
    "    Expenditure = int(result.find('span', class_='previous-terms').text.strip())\n",
    "    age = int(result.find('span', class_='age').text.strip())\n",
    "    winning_votes = int(result.find('span', class_='winning-votes').text.strip().replace(',', ''))\n",
    "    runner_up_votes = int(result.find('span', class_='runner-up-votes').text.strip().replace(',', ''))\n",
    "    data.append([candidate, party, votes, state, gender, previous_terms, age, winning_votes, runner_up_votes])"
   ]
  },
  {
   "cell_type": "markdown",
   "id": "ee0c2f44",
   "metadata": {},
   "source": [
    "## Creating a Dataframe"
   ]
  },
  {
   "cell_type": "code",
   "execution_count": 5,
   "id": "7cf82774",
   "metadata": {},
   "outputs": [],
   "source": [
    "columns = ['Applicant', 'Party', 'Performance', 'State', 'Gender', 'Expenditure', 'Age', 'Winning Votes', 'Runner-up Votes']\n",
    "election_data = pd.DataFrame(data, columns=columns)"
   ]
  },
  {
   "cell_type": "markdown",
   "id": "80721eac",
   "metadata": {},
   "source": [
    "## Analysis of Key Aspects\n"
   ]
  },
  {
   "cell_type": "code",
   "execution_count": 6,
   "id": "8274f716",
   "metadata": {},
   "outputs": [],
   "source": [
    "total_seats_by_party = election_data['Party'].value_counts()"
   ]
  },
  {
   "cell_type": "code",
   "execution_count": 7,
   "id": "027a3fe1",
   "metadata": {},
   "outputs": [],
   "source": [
    "total_votes_by_party = election_data.groupby('Party')['Votes'].sum()\n",
    "winning_percentages = (total_seats_by_party / total_seats_by_party.sum()) * 100"
   ]
  },
  {
   "cell_type": "code",
   "execution_count": 8,
   "id": "3539ec72",
   "metadata": {},
   "outputs": [],
   "source": [
    "average_margin_by_party = election_data.groupby('Party')['Winning Votes'].mean()"
   ]
  },
  {
   "cell_type": "code",
   "execution_count": 9,
   "id": "31dc0cbe",
   "metadata": {},
   "outputs": [],
   "source": [
    "Party_Performance_Over_Years = election_data.groupby('Party')['Performance'].mean()"
   ]
  },
  {
   "cell_type": "code",
   "execution_count": 10,
   "id": "56f36eb2",
   "metadata": {},
   "outputs": [],
   "source": [
    "seats_by_state = election_data['State'].value_counts()"
   ]
  },
  {
   "cell_type": "code",
   "execution_count": 11,
   "id": "d695c999",
   "metadata": {},
   "outputs": [],
   "source": [
    "major_states = ['Uttar Pradesh', 'Rajasthan' , 'Bihar']\n",
    "party_performance_in_major_states = election_data[election_data['State'].isin(major_states)].groupby('Party')['Votes'].sum()"
   ]
  },
  {
   "cell_type": "code",
   "execution_count": 12,
   "id": "c43ced61",
   "metadata": {},
   "outputs": [],
   "source": [
    "total_votes_by_gender = election_data.groupby('Gender')['Votes'].sum()"
   ]
  },
  {
   "cell_type": "code",
   "execution_count": 13,
   "id": "11327249",
   "metadata": {},
   "outputs": [],
   "source": [
    "gender_distribution = election_data['Gender'].value_counts()"
   ]
  },
  {
   "cell_type": "code",
   "execution_count": 14,
   "id": "9c88e124",
   "metadata": {},
   "outputs": [],
   "source": [
    "Total_Election_Expenditure_Party = election_data[election_data['Expenditure'] == 0].shape[0]"
   ]
  },
  {
   "cell_type": "code",
   "execution_count": 15,
   "id": "1baf46cb",
   "metadata": {},
   "outputs": [],
   "source": [
    "youngest_candidates_by_party = election_data.groupby('Party')['Age'].min()"
   ]
  },
  {
   "cell_type": "markdown",
   "id": "eefd5693",
   "metadata": {},
   "source": [
    "## Report "
   ]
  },
  {
   "cell_type": "code",
   "execution_count": 16,
   "id": "66ff6ea7",
   "metadata": {},
   "outputs": [],
   "source": [
    "report = f\"\"\"\n",
    "Lok Sabha Election Report:\n",
    "\n",
    "1. Total seats won by each party:\n",
    "{total_seats_by_party.to_string()}\n",
    "\n",
    "2. Winning percentage of each party:\n",
    "{winning_percentages.to_string()}\n",
    "\n",
    "3. Average Margin by Party:\n",
    "{average_margin_by_party.to_string()}\n",
    "    \n",
    "4. Party Performance Over Years:\n",
    "{Party_Performance_Over_Years.to_string()}\n",
    "\n",
    "5. State with the most seats:\n",
    "{seats_by_state.to_string()}\n",
    "\n",
    "6. Party performance in major states:\n",
    "{party_performance_in_major_states.to_string()}\n",
    "\n",
    "7. Total Number of Votes by Gender:\n",
    "{total_votes_by_gender.to_string()}\n",
    "\n",
    "8. Gender distribution of elected candidates:\n",
    "{gender_distribution.to_string()}\n",
    "\n",
    "9. Total Election Expenditure by Party:\n",
    "{Expenditure_of_party.to_string()}\n",
    "\n",
    "10. Party with the youngest candidates:\n",
    "{youngest_candidates_by_party.to_string()}\n",
    "\"\"\""
   ]
  },
  {
   "cell_type": "markdown",
   "id": "a42b606e",
   "metadata": {},
   "source": [
    "## File Formation"
   ]
  },
  {
   "cell_type": "code",
   "execution_count": 19,
   "id": "93268768",
   "metadata": {},
   "outputs": [
    {
     "name": "stdout",
     "output_type": "stream",
     "text": [
      "File formation successfully!!\n"
     ]
    }
   ],
   "source": [
    "with open(\"election_report.txt\", \"w\") as file:\n",
    "    file.write(report)\n",
    "\n",
    "print(\"File formation successfully!!\")"
   ]
  }
 ],
 "metadata": {
  "kernelspec": {
   "display_name": "Python 3 (ipykernel)",
   "language": "python",
   "name": "python3"
  },
  "language_info": {
   "codemirror_mode": {
    "name": "ipython",
    "version": 3
   },
   "file_extension": ".py",
   "mimetype": "text/x-python",
   "name": "python",
   "nbconvert_exporter": "python",
   "pygments_lexer": "ipython3",
   "version": "3.10.9"
  }
 },
 "nbformat": 4,
 "nbformat_minor": 5
}
